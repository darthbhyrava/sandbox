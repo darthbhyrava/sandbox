{
 "cells": [
  {
   "cell_type": "code",
   "execution_count": 1,
   "metadata": {},
   "outputs": [],
   "source": [
    "# Understanding Decorators\n",
    "# https://realpython.com/primer-on-python-decorators/"
   ]
  },
  {
   "cell_type": "code",
   "execution_count": 2,
   "metadata": {},
   "outputs": [],
   "source": [
    "## Step 1\n",
    "## Python's Functions are First-Class Objects\n",
    "## https://dbader.org/blog/python-first-class-functions "
   ]
  },
  {
   "cell_type": "code",
   "execution_count": 8,
   "metadata": {},
   "outputs": [
    {
     "data": {
      "text/plain": [
       "'yell'"
      ]
     },
     "execution_count": 8,
     "metadata": {},
     "output_type": "execute_result"
    }
   ],
   "source": [
    "## Functions are objects\n",
    "def yell(text):\n",
    "    return text.upper() + '!'\n",
    "bark = yell\n",
    "del yell\n",
    "bark.__name__"
   ]
  },
  {
   "cell_type": "code",
   "execution_count": 11,
   "metadata": {},
   "outputs": [
    {
     "name": "stdout",
     "output_type": "stream",
     "text": [
      "[<function yell at 0x7f4590ce7ea0>, <method 'lower' of 'str' objects>]\n"
     ]
    },
    {
     "data": {
      "text/plain": [
       "'MAGIC!'"
      ]
     },
     "execution_count": 11,
     "metadata": {},
     "output_type": "execute_result"
    }
   ],
   "source": [
    "## Functions can be stored in data structures\n",
    "funcs = [bark, str.lower]\n",
    "print(funcs)\n",
    "funcs[0]('magic')"
   ]
  },
  {
   "cell_type": "code",
   "execution_count": 17,
   "metadata": {},
   "outputs": [
    {
     "name": "stdout",
     "output_type": "stream",
     "text": [
      "HI, I AM A PYTHON PROGRAM!\n",
      "hi, i am a python program...\n"
     ]
    },
    {
     "data": {
      "text/plain": [
       "['HELLO!', 'HEY!', 'HI!']"
      ]
     },
     "execution_count": 17,
     "metadata": {},
     "output_type": "execute_result"
    }
   ],
   "source": [
    "## Functions can be passed to other functions\n",
    "def greet(func):\n",
    "    greeting = func('Hi, I am a Python program')\n",
    "    print(greeting)\n",
    "\n",
    "def whisper(text):\n",
    "    return text.lower() + '...'\n",
    "    \n",
    "greet(bark)\n",
    "greet(whisper)\n",
    "\n",
    "## Functions which can accept other functions as arguments are called higher-order functions\n",
    "list(map(bark, ['hello', 'hey', 'hi']))"
   ]
  },
  {
   "cell_type": "code",
   "execution_count": 22,
   "metadata": {},
   "outputs": [
    {
     "name": "stdout",
     "output_type": "stream",
     "text": [
      "hello, world...\n"
     ]
    }
   ],
   "source": [
    "## functions can be nested\n",
    "def speak(text):\n",
    "    def iwhisper(t):\n",
    "        return t.lower() + '...'\n",
    "    print(iwhisper(text))\n",
    "speak('Hello, World')\n",
    "\n",
    "# iwhisper('YO') # local function\n",
    "# speak.iwhisper # ^^"
   ]
  },
  {
   "cell_type": "code",
   "execution_count": 28,
   "metadata": {},
   "outputs": [
    {
     "name": "stdout",
     "output_type": "stream",
     "text": [
      "<function get_speak_func.<locals>.whisper at 0x7f457bf50f28>\n",
      "<function get_speak_func.<locals>.yell at 0x7f457b13dae8>\n",
      "hello...\n",
      "HELLO!\n"
     ]
    }
   ],
   "source": [
    "def get_speak_func(volume):\n",
    "    def whisper(text):\n",
    "        return text.lower() + '...'\n",
    "    def yell(text):\n",
    "        return text.upper() + '!'\n",
    "    if volume > 0.5:\n",
    "        return yell\n",
    "    else:\n",
    "        return whisper\n",
    "print(get_speak_func(0.3))\n",
    "print(get_speak_func(0.7))\n",
    "print(get_speak_func(0.3)('Hello'))\n",
    "print(get_speak_func(0.7)('Hello'))"
   ]
  },
  {
   "cell_type": "code",
   "execution_count": 33,
   "metadata": {},
   "outputs": [
    {
     "name": "stdout",
     "output_type": "stream",
     "text": [
      "HELLO, WORLD!\n",
      "8\n",
      "10\n"
     ]
    }
   ],
   "source": [
    "## functions can capture local state\n",
    "def get_speak_func(text, volume):\n",
    "    def whisper():\n",
    "        return text.lower() + '...'\n",
    "    def yell():\n",
    "        return text.upper() + '!'\n",
    "    if volume > 0.5:\n",
    "        return yell\n",
    "    else:\n",
    "        return whisper\n",
    "print(get_speak_func('Hello, World', 0.7)())\n",
    "\n",
    "###  A function like this (closure) remembers the values from its enclosing lexical scope \n",
    "### even when the program flow is no longer in that scope.\n",
    "\n",
    "def make_adder(n):\n",
    "    def add(x):\n",
    "        return x + n\n",
    "    return add\n",
    "print(make_adder(3)(5))\n",
    "print(make_adder(5)(5))"
   ]
  },
  {
   "cell_type": "code",
   "execution_count": 35,
   "metadata": {},
   "outputs": [
    {
     "data": {
      "text/plain": [
       "14"
      ]
     },
     "execution_count": 35,
     "metadata": {},
     "output_type": "execute_result"
    }
   ],
   "source": [
    "## Objects can behave like functions\n",
    "class Adder:\n",
    "    def __init__(self, n):\n",
    "         self.n = n\n",
    "    def __call__(self, x):\n",
    "        return self.n + x\n",
    "Adder(3)(4)\n",
    "Adder(6)(8)"
   ]
  },
  {
   "cell_type": "code",
   "execution_count": 36,
   "metadata": {},
   "outputs": [],
   "source": [
    "## Step 2\n",
    "## Decorators"
   ]
  },
  {
   "cell_type": "code",
   "execution_count": 38,
   "metadata": {},
   "outputs": [
    {
     "name": "stdout",
     "output_type": "stream",
     "text": [
      "Before the function is called\n",
      "Whee!\n",
      "After the function is called\n"
     ]
    }
   ],
   "source": [
    "# Simple Wrapping\n",
    "def my_decorator(func):\n",
    "    def wrapper():\n",
    "        print(\"Before the function is called\")\n",
    "        func()\n",
    "        print(\"After the function is called\")\n",
    "    return wrapper\n",
    "def say_whee():\n",
    "    print(\"Whee!\")\n",
    "\n",
    "say_whee = my_decorator(say_whee)\n",
    "say_whee()"
   ]
  },
  {
   "cell_type": "code",
   "execution_count": 44,
   "metadata": {},
   "outputs": [
    {
     "name": "stdout",
     "output_type": "stream",
     "text": [
      "Whee!\n"
     ]
    }
   ],
   "source": [
    "#Wrapping with parameters\n",
    "from datetime import datetime\n",
    "\n",
    "def not_during_the_night(func):\n",
    "    def wrapper():\n",
    "        if 7 <= datetime.now().hour < 22:\n",
    "            func()\n",
    "        else:\n",
    "            pass  # Hush, the neighbors are asleep\n",
    "    return wrapper\n",
    "\n",
    "def say_whee():\n",
    "    print(\"Whee!\")\n",
    "\n",
    "say_whee = not_during_the_night(say_whee)\n",
    "say_whee()"
   ]
  },
  {
   "cell_type": "code",
   "execution_count": 45,
   "metadata": {},
   "outputs": [
    {
     "name": "stdout",
     "output_type": "stream",
     "text": [
      "Before\n",
      "Whee!\n",
      "After\n"
     ]
    }
   ],
   "source": [
    "# Using Decorators' syntax\n",
    "def my_decorator(func):\n",
    "    def wrapper():\n",
    "        print(\"Before\")\n",
    "        func()\n",
    "        print(\"After\")\n",
    "    return wrapper\n",
    "\n",
    "@my_decorator\n",
    "def say_whee():\n",
    "    print(\"Whee!\")\n",
    "    \n",
    "say_whee()"
   ]
  },
  {
   "cell_type": "code",
   "execution_count": 46,
   "metadata": {},
   "outputs": [
    {
     "name": "stdout",
     "output_type": "stream",
     "text": [
      "Whee!\n",
      "Whee!\n"
     ]
    }
   ],
   "source": [
    "# Reusing decorators\n",
    "\n",
    "def do_twice(func):\n",
    "    def wrapper_do_twice():\n",
    "        func()\n",
    "        func()\n",
    "    return wrapper_do_twice\n",
    "\n",
    "@do_twice\n",
    "def say_whee():\n",
    "    print(\"Whee!\")\n",
    "    \n",
    "say_whee()"
   ]
  },
  {
   "cell_type": "code",
   "execution_count": 48,
   "metadata": {},
   "outputs": [
    {
     "name": "stdout",
     "output_type": "stream",
     "text": [
      "Hello Vader!\n",
      "Hello Vader!\n"
     ]
    }
   ],
   "source": [
    "## Decorating Functions with Arguments\n",
    "\n",
    "def do_twice(func):\n",
    "    def wrapper_do_twice(*args, **kwargs):\n",
    "        func(*args, **kwargs)\n",
    "        func(*args, **kwargs)\n",
    "    return wrapper_do_twice\n",
    "\n",
    "@do_twice\n",
    "def greet(name):\n",
    "    print(f\"Hello {name}\")\n",
    "    \n",
    "greet(\"Vader!\")"
   ]
  },
  {
   "cell_type": "code",
   "execution_count": 52,
   "metadata": {},
   "outputs": [
    {
     "name": "stdout",
     "output_type": "stream",
     "text": [
      "Hi Adam\n"
     ]
    }
   ],
   "source": [
    "## Returning Values from Decorated Functions\n",
    "\n",
    "@do_twice\n",
    "def return_greeting(name):\n",
    "    print(\"Creating greeting\")\n",
    "    return f\"Hi {name}\"\n",
    "# hi_adam = return_greeting(\"Adam\")\n",
    "# print(hi_adam)\n",
    "\n",
    "def do_twice(func):\n",
    "    def wrapper_do_twice(*args, **kwargs):\n",
    "        func(*args, **kwargs)\n",
    "        return func(*args, **kwargs)\n",
    "    return wrapper_do_twice\n",
    "\n",
    "print(hi_adam)"
   ]
  },
  {
   "cell_type": "code",
   "execution_count": 53,
   "metadata": {},
   "outputs": [
    {
     "name": "stdout",
     "output_type": "stream",
     "text": [
      "<function do_twice.<locals>.wrapper_do_twice at 0x7f457bb6c0d0>\n",
      "wrapper_do_twice\n",
      "Help on function wrapper_do_twice in module __main__:\n",
      "\n",
      "wrapper_do_twice()\n",
      "\n",
      "None\n"
     ]
    }
   ],
   "source": [
    "## introspection\n",
    "## Introspection is the ability of an object to know about its own attributes at runtime.\n",
    "print(say_whee)\n",
    "print(say_whee.__name__)\n",
    "print(help(say_whee))"
   ]
  },
  {
   "cell_type": "code",
   "execution_count": 57,
   "metadata": {},
   "outputs": [
    {
     "name": "stdout",
     "output_type": "stream",
     "text": [
      "<function say_whee at 0x7f457bb6c488>\n",
      "say_whee\n",
      "Help on function say_whee in module __main__:\n",
      "\n",
      "say_whee()\n",
      "\n",
      "None\n"
     ]
    }
   ],
   "source": [
    "## If we want decorated functions to retain their identity, we should use @functools.wraps decorator\n",
    "import functools\n",
    "\n",
    "def do_twice(func):\n",
    "    @functools.wraps(func)\n",
    "    def wrapper_do_twice(*args, **kwargs):\n",
    "        func(*args, **kwargs)\n",
    "        return func(*args, **kwargs)\n",
    "    return wrapper_do_twice\n",
    "\n",
    "@do_twice\n",
    "def say_whee():\n",
    "    print(\"Whee!\")\n",
    "\n",
    "print(say_whee)\n",
    "print(say_whee.__name__)\n",
    "print(help(say_whee))"
   ]
  },
  {
   "cell_type": "code",
   "execution_count": null,
   "metadata": {},
   "outputs": [],
   "source": []
  }
 ],
 "metadata": {
  "kernelspec": {
   "display_name": "Python 3",
   "language": "python",
   "name": "python3"
  },
  "language_info": {
   "codemirror_mode": {
    "name": "ipython",
    "version": 3
   },
   "file_extension": ".py",
   "mimetype": "text/x-python",
   "name": "python",
   "nbconvert_exporter": "python",
   "pygments_lexer": "ipython3",
   "version": "3.6.9"
  }
 },
 "nbformat": 4,
 "nbformat_minor": 2
}
