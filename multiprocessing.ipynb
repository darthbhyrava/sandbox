{
 "cells": [
  {
   "cell_type": "code",
   "execution_count": 1,
   "metadata": {},
   "outputs": [],
   "source": [
    "import multiprocessing as mp"
   ]
  },
  {
   "cell_type": "code",
   "execution_count": 3,
   "metadata": {},
   "outputs": [
    {
     "name": "stdout",
     "output_type": "stream",
     "text": [
      "worker\n",
      "worker\n",
      "worker\n",
      "worker\n",
      "worker\n"
     ]
    }
   ],
   "source": [
    "def worker():\n",
    "    print(\"worker\")\n",
    "    return\n",
    "\n",
    "jobs = []\n",
    "for i in range(5):\n",
    "    p = mp.Process(target=worker)\n",
    "    jobs.append(p)\n",
    "    p.start()"
   ]
  },
  {
   "cell_type": "code",
   "execution_count": 4,
   "metadata": {},
   "outputs": [
    {
     "name": "stdout",
     "output_type": "stream",
     "text": [
      "worker 0\n",
      "worker 2\n",
      "worker 1\n",
      "worker 3\n",
      "worker 4\n"
     ]
    }
   ],
   "source": [
    "def worker(num):\n",
    "    print(\"worker\", num)\n",
    "    return\n",
    "\n",
    "jobs = []\n",
    "for i in range(5):\n",
    "    p = mp.Process(target=worker, args=(i,))\n",
    "    jobs.append(p)\n",
    "    p.start()"
   ]
  },
  {
   "cell_type": "code",
   "execution_count": null,
   "metadata": {},
   "outputs": [],
   "source": []
  }
 ],
 "metadata": {
  "kernelspec": {
   "display_name": "Python 3",
   "language": "python",
   "name": "python3"
  },
  "language_info": {
   "codemirror_mode": {
    "name": "ipython",
    "version": 3
   },
   "file_extension": ".py",
   "mimetype": "text/x-python",
   "name": "python",
   "nbconvert_exporter": "python",
   "pygments_lexer": "ipython3",
   "version": "3.6.8"
  }
 },
 "nbformat": 4,
 "nbformat_minor": 2
}
